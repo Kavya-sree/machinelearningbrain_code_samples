{
  "nbformat": 4,
  "nbformat_minor": 0,
  "metadata": {
    "colab": {
      "provenance": [],
      "authorship_tag": "ABX9TyOq0gqj9w0e0nOAGUx/c+lO",
      "include_colab_link": true
    },
    "kernelspec": {
      "name": "python3",
      "display_name": "Python 3"
    },
    "language_info": {
      "name": "python"
    }
  },
  "cells": [
    {
      "cell_type": "markdown",
      "metadata": {
        "id": "view-in-github",
        "colab_type": "text"
      },
      "source": [
        "<a href=\"https://colab.research.google.com/github/Kavya-sree/machinelearningbrain_code_samples/blob/main/train_test_split_best_practices.ipynb\" target=\"_parent\"><img src=\"https://colab.research.google.com/assets/colab-badge.svg\" alt=\"Open In Colab\"/></a>"
      ]
    },
    {
      "cell_type": "markdown",
      "source": [
        "There are certain things, you need to consider before splitting your data.\n",
        "We can do a little experimentations with the function `train_test_split()`\n",
        "\n",
        "Lets create a simple multiclass dataset"
      ],
      "metadata": {
        "id": "QeFza7i3t7ex"
      }
    },
    {
      "cell_type": "code",
      "source": [
        "import pandas as pd\n",
        "\n",
        "data = {'Name': ['A','C','A','A','A','B','A','B','B','C'],\n",
        "        'Label': [1,1,1,1,1,2,2,2,3,3]}\n",
        "\n",
        "# Create the DataFrame\n",
        "data = pd.DataFrame(data)\n",
        "print(data)"
      ],
      "metadata": {
        "colab": {
          "base_uri": "https://localhost:8080/"
        },
        "id": "1YUlfXHmu-I1",
        "outputId": "0382ed48-d634-4497-d452-047aef5b5832"
      },
      "execution_count": 1,
      "outputs": [
        {
          "output_type": "stream",
          "name": "stdout",
          "text": [
            "  Name  Label\n",
            "0    A      1\n",
            "1    C      1\n",
            "2    A      1\n",
            "3    A      1\n",
            "4    A      1\n",
            "5    B      2\n",
            "6    A      2\n",
            "7    B      2\n",
            "8    B      3\n",
            "9    C      3\n"
          ]
        }
      ]
    },
    {
      "cell_type": "code",
      "source": [
        "from sklearn.model_selection import train_test_split"
      ],
      "metadata": {
        "id": "TXAOk-2PLR9z"
      },
      "execution_count": 2,
      "outputs": []
    },
    {
      "cell_type": "markdown",
      "source": [
        "# Random Shuffling\n",
        "\n",
        "The first thing you need to check is whether, the datas are randomly shuffled for data splitting. Keep in mind that there are cases were, you shouldn't shuffle the data. For instance, if your data is time series. If there is no problem in data shuffling, then make sure to shuffle the data to avoid adding bias into our model."
      ],
      "metadata": {
        "id": "t01kbgm6hyOK"
      }
    },
    {
      "cell_type": "code",
      "source": [
        "train, test = train_test_split(data, test_size=0.3, shuffle=False, random_state=None)\n",
        "print(train)\n",
        "print(test)"
      ],
      "metadata": {
        "colab": {
          "base_uri": "https://localhost:8080/"
        },
        "id": "3WOCFkXYKqGp",
        "outputId": "e65a73e2-ba7a-4a83-968a-1095804fdba9"
      },
      "execution_count": 3,
      "outputs": [
        {
          "output_type": "stream",
          "name": "stdout",
          "text": [
            "  Name  Label\n",
            "0    A      1\n",
            "1    C      1\n",
            "2    A      1\n",
            "3    A      1\n",
            "4    A      1\n",
            "5    B      2\n",
            "6    A      2\n",
            "  Name  Label\n",
            "7    B      2\n",
            "8    B      3\n",
            "9    C      3\n"
          ]
        }
      ]
    },
    {
      "cell_type": "markdown",
      "source": [
        "Here data is split sequentially. Can you see the problem? Some features and labels doesn't appear on the sets. For eg: the label '3' is not in the training set. This is because, we have set `shuffle=False`. By default, it is set to `shuffle=True`. This means that, by default, the data's are shuffled into random order before splitting.\n",
        "Let's see what happens when we set `shuffle=True`"
      ],
      "metadata": {
        "id": "Ljwp13DXWL1f"
      }
    },
    {
      "cell_type": "code",
      "source": [
        "train, test = train_test_split(data, test_size=0.3, shuffle=True, random_state=None)\n",
        "print(train)\n",
        "print(test)"
      ],
      "metadata": {
        "colab": {
          "base_uri": "https://localhost:8080/"
        },
        "id": "H3uYh9AQgoyJ",
        "outputId": "971ade80-5979-4a67-b7a0-29f176e4735b"
      },
      "execution_count": 4,
      "outputs": [
        {
          "output_type": "stream",
          "name": "stdout",
          "text": [
            "  Name  Label\n",
            "6    A      2\n",
            "8    B      3\n",
            "1    C      1\n",
            "7    B      2\n",
            "3    A      1\n",
            "9    C      3\n",
            "0    A      1\n",
            "  Name  Label\n",
            "4    A      1\n",
            "2    A      1\n",
            "5    B      2\n"
          ]
        }
      ]
    },
    {
      "cell_type": "markdown",
      "source": [
        "Now the datas are shuffled. If you rerun the code, you may get different results. This is because, we have set `random_state=None`.\n",
        "\n",
        "Let's pass an int value to `random_state`for reproducible output."
      ],
      "metadata": {
        "id": "eYoxZQKFh4Vq"
      }
    },
    {
      "cell_type": "code",
      "source": [
        "train, test = train_test_split(data, test_size=0.3, shuffle=True, random_state=100)\n",
        "print(train)\n",
        "print(test)"
      ],
      "metadata": {
        "colab": {
          "base_uri": "https://localhost:8080/"
        },
        "id": "CppRyzFAgtT4",
        "outputId": "4250d2b1-a6f2-4e72-a4f3-54db5cd6e5d9"
      },
      "execution_count": 5,
      "outputs": [
        {
          "output_type": "stream",
          "name": "stdout",
          "text": [
            "  Name  Label\n",
            "5    B      2\n",
            "4    A      1\n",
            "2    A      1\n",
            "0    A      1\n",
            "3    A      1\n",
            "9    C      3\n",
            "8    B      3\n",
            "  Name  Label\n",
            "7    B      2\n",
            "6    A      2\n",
            "1    C      1\n"
          ]
        }
      ]
    },
    {
      "cell_type": "markdown",
      "source": [
        "If you rerun the code multiple times with the same random_state, the output will always remain the same. You have set a seed, which is useful for reproducibility of the test results.\n"
      ],
      "metadata": {
        "id": "ZPLcMte4hDn9"
      }
    },
    {
      "cell_type": "markdown",
      "source": [
        "# Stratified Splitting\n",
        "\n",
        "Sometimes, shuffling the dataset before splitting may not be sufficient. We have to make sure that the dataset is split by preserving the proportions of the class. This is especially useful when we have **imbalanced dataset** like our example. In our dataset, label '1' appears 5 times, label '2' appears 3 times and label '3' appears 2 times. After splitting the dataset, the label/class counts should be evenly distributed across training and testing set. This procesure is called stratified splitting."
      ],
      "metadata": {
        "id": "9W40kO7WiboU"
      }
    },
    {
      "cell_type": "code",
      "source": [
        "X = data.iloc[:, :-1].values\n",
        "y = data.iloc[:,-1].values\n",
        "\n",
        "X_train, X_test, y_train, y_test = train_test_split(X, y,\n",
        "                                                    train_size=0.7,\n",
        "                                                    random_state=100)\n",
        "\n",
        "print(f\"Train labels:\\n{y_train}\")\n",
        "print(f\"Test labels:\\n{y_test}\")"
      ],
      "metadata": {
        "colab": {
          "base_uri": "https://localhost:8080/"
        },
        "id": "jJPKvw65ANZn",
        "outputId": "7eda1102-c5a2-4c3c-a9aa-99c572761d90"
      },
      "execution_count": 6,
      "outputs": [
        {
          "output_type": "stream",
          "name": "stdout",
          "text": [
            "Train labels:\n",
            "[2 1 1 1 1 3 3]\n",
            "Test labels:\n",
            "[2 2 1]\n"
          ]
        }
      ]
    },
    {
      "cell_type": "markdown",
      "source": [
        "We can see that the class labels are not evenly distributed."
      ],
      "metadata": {
        "id": "jc9IdYrYEEpk"
      }
    },
    {
      "cell_type": "code",
      "source": [
        "X_train, X_test, y_train, y_test = train_test_split(X, y,\n",
        "                                                    train_size=0.7,\n",
        "                                                    random_state=100,\n",
        "                                                    stratify=y)"
      ],
      "metadata": {
        "id": "1qO7KT5ICuL9"
      },
      "execution_count": 7,
      "outputs": []
    },
    {
      "cell_type": "code",
      "source": [
        "print(f\"Train labels:\\n{y_train}\")\n",
        "print(f\"Test labels:\\n{y_test}\")"
      ],
      "metadata": {
        "colab": {
          "base_uri": "https://localhost:8080/"
        },
        "id": "fCKSZFeECwo_",
        "outputId": "abec50b1-445e-4d94-da7f-470f7aff036a"
      },
      "execution_count": 8,
      "outputs": [
        {
          "output_type": "stream",
          "name": "stdout",
          "text": [
            "Train labels:\n",
            "[1 1 1 2 3 1 2]\n",
            "Test labels:\n",
            "[2 3 1]\n"
          ]
        }
      ]
    },
    {
      "cell_type": "markdown",
      "source": [
        "Now the datas are evenly distributed."
      ],
      "metadata": {
        "id": "coMaDJ2iEfqR"
      }
    },
    {
      "cell_type": "markdown",
      "source": [
        "# Validation splits\n",
        "\n",
        "Instead of splitting the dataset into two sets (train and test set), we can split it into three sets: train, test and validation set.\n",
        "Validation set is usually taken from training set and used to tune hyperparameters. For example, to find learning rate, batch size, the number of hidden layers in neural network, or the best kernel for a support vector machine.\n",
        "\n",
        "Always remember that the test set should only be taken out at the end when the hyperparameters that give the best accuracy on the validation set have been found. Test set should not be used to make choices about hyperparameters.\n",
        "\n",
        "\n",
        "How can we split the dataset into three sets using Sklearn's `train_test_split()`? As far as we know, it can only into train and test set. The trick is to use `train_test_split()`twice. First it splits into train and set test. Then again apply the function on train set to get train and validation set."
      ],
      "metadata": {
        "id": "MOj02AeeEpPI"
      }
    },
    {
      "cell_type": "code",
      "source": [
        "X_train, X_test, y_train, y_test = train_test_split(X, y, train_size=0.8, random_state=100)\n",
        "\n",
        "X_train, X_val, y_train, y_val = train_test_split(X_train, y_train, test_size=0.25, random_state=100)\n",
        "\n",
        "print(f\"Train labels:\\n{y_train}\")\n",
        "print(f\"Validation labels:\\n{y_val}\")\n",
        "print(f\"Test labels:\\n{y_test}\")"
      ],
      "metadata": {
        "colab": {
          "base_uri": "https://localhost:8080/"
        },
        "id": "8djMJVuOMXRF",
        "outputId": "341a6e5b-2082-46d4-8ccd-b724d2c9c2ae"
      },
      "execution_count": 10,
      "outputs": [
        {
          "output_type": "stream",
          "name": "stdout",
          "text": [
            "Train labels:\n",
            "[1 1 3 1 3 1]\n",
            "Validation labels:\n",
            "[2 1]\n",
            "Test labels:\n",
            "[2 2]\n"
          ]
        }
      ]
    }
  ]
}