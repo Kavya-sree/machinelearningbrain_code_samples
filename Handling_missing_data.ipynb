{
  "nbformat": 4,
  "nbformat_minor": 0,
  "metadata": {
    "colab": {
      "provenance": [],
      "authorship_tag": "ABX9TyOiR/qsPi6jzSs7KCU8iV6U",
      "include_colab_link": true
    },
    "kernelspec": {
      "name": "python3",
      "display_name": "Python 3"
    },
    "language_info": {
      "name": "python"
    }
  },
  "cells": [
    {
      "cell_type": "markdown",
      "metadata": {
        "id": "view-in-github",
        "colab_type": "text"
      },
      "source": [
        "<a href=\"https://colab.research.google.com/github/Kavya-sree/machinelearningbrain_code_samples/blob/main/Handling_missing_data.ipynb\" target=\"_parent\"><img src=\"https://colab.research.google.com/assets/colab-badge.svg\" alt=\"Open In Colab\"/></a>"
      ]
    },
    {
      "cell_type": "markdown",
      "source": [
        "# Loading necessary libraries."
      ],
      "metadata": {
        "id": "TcTonLgTqFBt"
      }
    },
    {
      "cell_type": "code",
      "execution_count": 1,
      "metadata": {
        "id": "ArndB3XkjYzL"
      },
      "outputs": [],
      "source": [
        "import numpy as np\n",
        "import pandas as pd"
      ]
    },
    {
      "cell_type": "markdown",
      "source": [
        "# Loading dataset"
      ],
      "metadata": {
        "id": "o1eEUwj6GDSQ"
      }
    },
    {
      "cell_type": "code",
      "source": [
        "# load the data from csv file to Pandas DataFrame\n",
        "titanic_data = pd.read_csv('/content/train.csv')\n",
        "titanic_data.head()"
      ],
      "metadata": {
        "colab": {
          "base_uri": "https://localhost:8080/",
          "height": 206
        },
        "id": "H3rHrfMwDzAD",
        "outputId": "de195aed-b235-4252-e0f6-002aebb016b8"
      },
      "execution_count": 2,
      "outputs": [
        {
          "output_type": "execute_result",
          "data": {
            "text/plain": [
              "   PassengerId  Survived  Pclass  \\\n",
              "0            1         0       3   \n",
              "1            2         1       1   \n",
              "2            3         1       3   \n",
              "3            4         1       1   \n",
              "4            5         0       3   \n",
              "\n",
              "                                                Name     Sex   Age  SibSp  \\\n",
              "0                            Braund, Mr. Owen Harris    male  22.0      1   \n",
              "1  Cumings, Mrs. John Bradley (Florence Briggs Th...  female  38.0      1   \n",
              "2                             Heikkinen, Miss. Laina  female  26.0      0   \n",
              "3       Futrelle, Mrs. Jacques Heath (Lily May Peel)  female  35.0      1   \n",
              "4                           Allen, Mr. William Henry    male  35.0      0   \n",
              "\n",
              "   Parch            Ticket     Fare Cabin Embarked  \n",
              "0      0         A/5 21171   7.2500   NaN        S  \n",
              "1      0          PC 17599  71.2833   C85        C  \n",
              "2      0  STON/O2. 3101282   7.9250   NaN        S  \n",
              "3      0            113803  53.1000  C123        S  \n",
              "4      0            373450   8.0500   NaN        S  "
            ],
            "text/html": [
              "\n",
              "  <div id=\"df-7ee49041-fee8-46bb-850a-2ee0a78b845b\" class=\"colab-df-container\">\n",
              "    <div>\n",
              "<style scoped>\n",
              "    .dataframe tbody tr th:only-of-type {\n",
              "        vertical-align: middle;\n",
              "    }\n",
              "\n",
              "    .dataframe tbody tr th {\n",
              "        vertical-align: top;\n",
              "    }\n",
              "\n",
              "    .dataframe thead th {\n",
              "        text-align: right;\n",
              "    }\n",
              "</style>\n",
              "<table border=\"1\" class=\"dataframe\">\n",
              "  <thead>\n",
              "    <tr style=\"text-align: right;\">\n",
              "      <th></th>\n",
              "      <th>PassengerId</th>\n",
              "      <th>Survived</th>\n",
              "      <th>Pclass</th>\n",
              "      <th>Name</th>\n",
              "      <th>Sex</th>\n",
              "      <th>Age</th>\n",
              "      <th>SibSp</th>\n",
              "      <th>Parch</th>\n",
              "      <th>Ticket</th>\n",
              "      <th>Fare</th>\n",
              "      <th>Cabin</th>\n",
              "      <th>Embarked</th>\n",
              "    </tr>\n",
              "  </thead>\n",
              "  <tbody>\n",
              "    <tr>\n",
              "      <th>0</th>\n",
              "      <td>1</td>\n",
              "      <td>0</td>\n",
              "      <td>3</td>\n",
              "      <td>Braund, Mr. Owen Harris</td>\n",
              "      <td>male</td>\n",
              "      <td>22.0</td>\n",
              "      <td>1</td>\n",
              "      <td>0</td>\n",
              "      <td>A/5 21171</td>\n",
              "      <td>7.2500</td>\n",
              "      <td>NaN</td>\n",
              "      <td>S</td>\n",
              "    </tr>\n",
              "    <tr>\n",
              "      <th>1</th>\n",
              "      <td>2</td>\n",
              "      <td>1</td>\n",
              "      <td>1</td>\n",
              "      <td>Cumings, Mrs. John Bradley (Florence Briggs Th...</td>\n",
              "      <td>female</td>\n",
              "      <td>38.0</td>\n",
              "      <td>1</td>\n",
              "      <td>0</td>\n",
              "      <td>PC 17599</td>\n",
              "      <td>71.2833</td>\n",
              "      <td>C85</td>\n",
              "      <td>C</td>\n",
              "    </tr>\n",
              "    <tr>\n",
              "      <th>2</th>\n",
              "      <td>3</td>\n",
              "      <td>1</td>\n",
              "      <td>3</td>\n",
              "      <td>Heikkinen, Miss. Laina</td>\n",
              "      <td>female</td>\n",
              "      <td>26.0</td>\n",
              "      <td>0</td>\n",
              "      <td>0</td>\n",
              "      <td>STON/O2. 3101282</td>\n",
              "      <td>7.9250</td>\n",
              "      <td>NaN</td>\n",
              "      <td>S</td>\n",
              "    </tr>\n",
              "    <tr>\n",
              "      <th>3</th>\n",
              "      <td>4</td>\n",
              "      <td>1</td>\n",
              "      <td>1</td>\n",
              "      <td>Futrelle, Mrs. Jacques Heath (Lily May Peel)</td>\n",
              "      <td>female</td>\n",
              "      <td>35.0</td>\n",
              "      <td>1</td>\n",
              "      <td>0</td>\n",
              "      <td>113803</td>\n",
              "      <td>53.1000</td>\n",
              "      <td>C123</td>\n",
              "      <td>S</td>\n",
              "    </tr>\n",
              "    <tr>\n",
              "      <th>4</th>\n",
              "      <td>5</td>\n",
              "      <td>0</td>\n",
              "      <td>3</td>\n",
              "      <td>Allen, Mr. William Henry</td>\n",
              "      <td>male</td>\n",
              "      <td>35.0</td>\n",
              "      <td>0</td>\n",
              "      <td>0</td>\n",
              "      <td>373450</td>\n",
              "      <td>8.0500</td>\n",
              "      <td>NaN</td>\n",
              "      <td>S</td>\n",
              "    </tr>\n",
              "  </tbody>\n",
              "</table>\n",
              "</div>\n",
              "    <div class=\"colab-df-buttons\">\n",
              "\n",
              "  <div class=\"colab-df-container\">\n",
              "    <button class=\"colab-df-convert\" onclick=\"convertToInteractive('df-7ee49041-fee8-46bb-850a-2ee0a78b845b')\"\n",
              "            title=\"Convert this dataframe to an interactive table.\"\n",
              "            style=\"display:none;\">\n",
              "\n",
              "  <svg xmlns=\"http://www.w3.org/2000/svg\" height=\"24px\" viewBox=\"0 -960 960 960\">\n",
              "    <path d=\"M120-120v-720h720v720H120Zm60-500h600v-160H180v160Zm220 220h160v-160H400v160Zm0 220h160v-160H400v160ZM180-400h160v-160H180v160Zm440 0h160v-160H620v160ZM180-180h160v-160H180v160Zm440 0h160v-160H620v160Z\"/>\n",
              "  </svg>\n",
              "    </button>\n",
              "\n",
              "  <style>\n",
              "    .colab-df-container {\n",
              "      display:flex;\n",
              "      gap: 12px;\n",
              "    }\n",
              "\n",
              "    .colab-df-convert {\n",
              "      background-color: #E8F0FE;\n",
              "      border: none;\n",
              "      border-radius: 50%;\n",
              "      cursor: pointer;\n",
              "      display: none;\n",
              "      fill: #1967D2;\n",
              "      height: 32px;\n",
              "      padding: 0 0 0 0;\n",
              "      width: 32px;\n",
              "    }\n",
              "\n",
              "    .colab-df-convert:hover {\n",
              "      background-color: #E2EBFA;\n",
              "      box-shadow: 0px 1px 2px rgba(60, 64, 67, 0.3), 0px 1px 3px 1px rgba(60, 64, 67, 0.15);\n",
              "      fill: #174EA6;\n",
              "    }\n",
              "\n",
              "    .colab-df-buttons div {\n",
              "      margin-bottom: 4px;\n",
              "    }\n",
              "\n",
              "    [theme=dark] .colab-df-convert {\n",
              "      background-color: #3B4455;\n",
              "      fill: #D2E3FC;\n",
              "    }\n",
              "\n",
              "    [theme=dark] .colab-df-convert:hover {\n",
              "      background-color: #434B5C;\n",
              "      box-shadow: 0px 1px 3px 1px rgba(0, 0, 0, 0.15);\n",
              "      filter: drop-shadow(0px 1px 2px rgba(0, 0, 0, 0.3));\n",
              "      fill: #FFFFFF;\n",
              "    }\n",
              "  </style>\n",
              "\n",
              "    <script>\n",
              "      const buttonEl =\n",
              "        document.querySelector('#df-7ee49041-fee8-46bb-850a-2ee0a78b845b button.colab-df-convert');\n",
              "      buttonEl.style.display =\n",
              "        google.colab.kernel.accessAllowed ? 'block' : 'none';\n",
              "\n",
              "      async function convertToInteractive(key) {\n",
              "        const element = document.querySelector('#df-7ee49041-fee8-46bb-850a-2ee0a78b845b');\n",
              "        const dataTable =\n",
              "          await google.colab.kernel.invokeFunction('convertToInteractive',\n",
              "                                                    [key], {});\n",
              "        if (!dataTable) return;\n",
              "\n",
              "        const docLinkHtml = 'Like what you see? Visit the ' +\n",
              "          '<a target=\"_blank\" href=https://colab.research.google.com/notebooks/data_table.ipynb>data table notebook</a>'\n",
              "          + ' to learn more about interactive tables.';\n",
              "        element.innerHTML = '';\n",
              "        dataTable['output_type'] = 'display_data';\n",
              "        await google.colab.output.renderOutput(dataTable, element);\n",
              "        const docLink = document.createElement('div');\n",
              "        docLink.innerHTML = docLinkHtml;\n",
              "        element.appendChild(docLink);\n",
              "      }\n",
              "    </script>\n",
              "  </div>\n",
              "\n",
              "\n",
              "<div id=\"df-5f969570-f758-447b-875d-8988107233b5\">\n",
              "  <button class=\"colab-df-quickchart\" onclick=\"quickchart('df-5f969570-f758-447b-875d-8988107233b5')\"\n",
              "            title=\"Suggest charts.\"\n",
              "            style=\"display:none;\">\n",
              "\n",
              "<svg xmlns=\"http://www.w3.org/2000/svg\" height=\"24px\"viewBox=\"0 0 24 24\"\n",
              "     width=\"24px\">\n",
              "    <g>\n",
              "        <path d=\"M19 3H5c-1.1 0-2 .9-2 2v14c0 1.1.9 2 2 2h14c1.1 0 2-.9 2-2V5c0-1.1-.9-2-2-2zM9 17H7v-7h2v7zm4 0h-2V7h2v10zm4 0h-2v-4h2v4z\"/>\n",
              "    </g>\n",
              "</svg>\n",
              "  </button>\n",
              "\n",
              "<style>\n",
              "  .colab-df-quickchart {\n",
              "    background-color: #E8F0FE;\n",
              "    border: none;\n",
              "    border-radius: 50%;\n",
              "    cursor: pointer;\n",
              "    display: none;\n",
              "    fill: #1967D2;\n",
              "    height: 32px;\n",
              "    padding: 0 0 0 0;\n",
              "    width: 32px;\n",
              "  }\n",
              "\n",
              "  .colab-df-quickchart:hover {\n",
              "    background-color: #E2EBFA;\n",
              "    box-shadow: 0px 1px 2px rgba(60, 64, 67, 0.3), 0px 1px 3px 1px rgba(60, 64, 67, 0.15);\n",
              "    fill: #174EA6;\n",
              "  }\n",
              "\n",
              "  [theme=dark] .colab-df-quickchart {\n",
              "    background-color: #3B4455;\n",
              "    fill: #D2E3FC;\n",
              "  }\n",
              "\n",
              "  [theme=dark] .colab-df-quickchart:hover {\n",
              "    background-color: #434B5C;\n",
              "    box-shadow: 0px 1px 3px 1px rgba(0, 0, 0, 0.15);\n",
              "    filter: drop-shadow(0px 1px 2px rgba(0, 0, 0, 0.3));\n",
              "    fill: #FFFFFF;\n",
              "  }\n",
              "</style>\n",
              "\n",
              "  <script>\n",
              "    async function quickchart(key) {\n",
              "      const charts = await google.colab.kernel.invokeFunction(\n",
              "          'suggestCharts', [key], {});\n",
              "    }\n",
              "    (() => {\n",
              "      let quickchartButtonEl =\n",
              "        document.querySelector('#df-5f969570-f758-447b-875d-8988107233b5 button');\n",
              "      quickchartButtonEl.style.display =\n",
              "        google.colab.kernel.accessAllowed ? 'block' : 'none';\n",
              "    })();\n",
              "  </script>\n",
              "</div>\n",
              "    </div>\n",
              "  </div>\n"
            ]
          },
          "metadata": {},
          "execution_count": 2
        }
      ]
    },
    {
      "cell_type": "code",
      "source": [
        "titanic_data.shape"
      ],
      "metadata": {
        "colab": {
          "base_uri": "https://localhost:8080/"
        },
        "id": "oV3771hPE3Xr",
        "outputId": "928c7082-8d70-4432-e097-000382e9cd0a"
      },
      "execution_count": 3,
      "outputs": [
        {
          "output_type": "execute_result",
          "data": {
            "text/plain": [
              "(891, 12)"
            ]
          },
          "metadata": {},
          "execution_count": 3
        }
      ]
    },
    {
      "cell_type": "markdown",
      "source": [
        "Also, i am dropping the column \"PassengerId\", because it is of no importance.\n",
        "\n"
      ],
      "metadata": {
        "id": "OykASBgWFChq"
      }
    },
    {
      "cell_type": "code",
      "source": [
        "titanic_data.drop(\"PassengerId\",axis=1,inplace=True)"
      ],
      "metadata": {
        "id": "sahlSDscGZ4p"
      },
      "execution_count": 4,
      "outputs": []
    },
    {
      "cell_type": "markdown",
      "source": [
        "### Check for duplicate values.\n",
        "[`DataFrame.duplicated()`](https://pandas.pydata.org/pandas-docs/stable/reference/api/pandas.DataFrame.duplicated.html): Return boolean Series denoting duplicate rows.\n",
        "\n",
        "You can count the number of duplicate rows with `sum()`"
      ],
      "metadata": {
        "id": "XS1_mL3nGiEy"
      }
    },
    {
      "cell_type": "code",
      "source": [
        "titanic_data.duplicated().sum()"
      ],
      "metadata": {
        "colab": {
          "base_uri": "https://localhost:8080/"
        },
        "id": "r0Zs6E5AGf5F",
        "outputId": "b44fbf13-99f4-495b-bf2d-56a6a6c8b8a2"
      },
      "execution_count": 5,
      "outputs": [
        {
          "output_type": "execute_result",
          "data": {
            "text/plain": [
              "0"
            ]
          },
          "metadata": {},
          "execution_count": 5
        }
      ]
    },
    {
      "cell_type": "markdown",
      "source": [
        "Since the goal of this notebook is to handle missing values in the dataset, we are not going to explore other data analysis and processing techniques. Let's jump right to it."
      ],
      "metadata": {
        "id": "7l0DQYieGhzp"
      }
    },
    {
      "cell_type": "markdown",
      "source": [
        "# Missing value detection\n",
        "\n",
        "Within pandas, a missing value is denoted by NaN"
      ],
      "metadata": {
        "id": "OODWpJ86GVIi"
      }
    },
    {
      "cell_type": "markdown",
      "source": [
        "[`DataFrame.info()`](https://pandas.pydata.org/docs/reference/api/pandas.DataFrame.info.html): Used to get a concise summary of the dataframe. This method prints information about a DataFrame including the index dtype and columns, **non-null** values and memory usage.\n",
        "Yes it prints non-null values, which is very handy for missing value detection."
      ],
      "metadata": {
        "id": "9bvZpwfGB87L"
      }
    },
    {
      "cell_type": "code",
      "source": [
        "titanic_data.info()"
      ],
      "metadata": {
        "colab": {
          "base_uri": "https://localhost:8080/"
        },
        "id": "KOi0QkfvDIc_",
        "outputId": "d15af111-0803-455a-fa9d-58cc6e226c33"
      },
      "execution_count": 6,
      "outputs": [
        {
          "output_type": "stream",
          "name": "stdout",
          "text": [
            "<class 'pandas.core.frame.DataFrame'>\n",
            "RangeIndex: 891 entries, 0 to 890\n",
            "Data columns (total 11 columns):\n",
            " #   Column    Non-Null Count  Dtype  \n",
            "---  ------    --------------  -----  \n",
            " 0   Survived  891 non-null    int64  \n",
            " 1   Pclass    891 non-null    int64  \n",
            " 2   Name      891 non-null    object \n",
            " 3   Sex       891 non-null    object \n",
            " 4   Age       714 non-null    float64\n",
            " 5   SibSp     891 non-null    int64  \n",
            " 6   Parch     891 non-null    int64  \n",
            " 7   Ticket    891 non-null    object \n",
            " 8   Fare      891 non-null    float64\n",
            " 9   Cabin     204 non-null    object \n",
            " 10  Embarked  889 non-null    object \n",
            "dtypes: float64(2), int64(4), object(5)\n",
            "memory usage: 76.7+ KB\n"
          ]
        }
      ]
    },
    {
      "cell_type": "markdown",
      "source": [
        "mmm, there is certainly so many null value"
      ],
      "metadata": {
        "id": "dXXChR0ADYov"
      }
    },
    {
      "cell_type": "markdown",
      "source": [
        "## Examine missing values"
      ],
      "metadata": {
        "id": "C0ou7LdVX8oO"
      }
    },
    {
      "cell_type": "code",
      "source": [
        "# check the number of missing values in each column\n",
        "titanic_data.isnull().sum()"
      ],
      "metadata": {
        "colab": {
          "base_uri": "https://localhost:8080/"
        },
        "id": "KqarWYntQISP",
        "outputId": "8ee2c6f1-2a1d-4bbc-99eb-0da8a6cf7861"
      },
      "execution_count": 7,
      "outputs": [
        {
          "output_type": "execute_result",
          "data": {
            "text/plain": [
              "Survived      0\n",
              "Pclass        0\n",
              "Name          0\n",
              "Sex           0\n",
              "Age         177\n",
              "SibSp         0\n",
              "Parch         0\n",
              "Ticket        0\n",
              "Fare          0\n",
              "Cabin       687\n",
              "Embarked      2\n",
              "dtype: int64"
            ]
          },
          "metadata": {},
          "execution_count": 7
        }
      ]
    },
    {
      "cell_type": "markdown",
      "source": [
        "You can use this simple function to get sum of null values for each features. I found an amazing function in kaggle [link](https://www.kaggle.com/code/willkoehrsen/start-here-a-gentle-introduction?scriptVersionId=5301226&cellId=16) that can be used to give you an idea about the distribution of null values."
      ],
      "metadata": {
        "id": "ip8Sz9neZ33K"
      }
    },
    {
      "cell_type": "code",
      "source": [
        "# Function to calculate missing values by column\n",
        "def missing_values_table(df):\n",
        "        # Total missing values\n",
        "        mis_val = df.isnull().sum()\n",
        "\n",
        "        # Percentage of missing values\n",
        "        mis_val_percent = 100 * mis_val / len(df)\n",
        "\n",
        "        # Make a table with the results\n",
        "        mis_val_table = pd.concat([mis_val, mis_val_percent], axis=1)\n",
        "\n",
        "        # Rename the columns\n",
        "        mis_val_table = mis_val_table.rename(\n",
        "        columns = {0 : 'Missing Values', 1 : '% of Total Values'})\n",
        "\n",
        "        # Sort the table by percentage of missing descending\n",
        "        mis_val_table = mis_val_table[\n",
        "            mis_val_table.iloc[:,1] != 0].sort_values(\n",
        "        '% of Total Values', ascending=False).round(1)\n",
        "\n",
        "        # Print some summary information\n",
        "        print (\"Your selected dataframe has \" + str(df.shape[1]) + \" columns.\\n\"\n",
        "            \"There are \" + str(mis_val_table.shape[0]) +\n",
        "              \" columns that have missing values.\")\n",
        "\n",
        "        # Return the dataframe with missing information\n",
        "        return mis_val_table"
      ],
      "metadata": {
        "id": "8n0_Pa7cZnWJ"
      },
      "execution_count": 8,
      "outputs": []
    },
    {
      "cell_type": "code",
      "source": [
        "# Missing values statistics\n",
        "missing_values = missing_values_table(titanic_data)\n",
        "missing_values"
      ],
      "metadata": {
        "colab": {
          "base_uri": "https://localhost:8080/",
          "height": 180
        },
        "id": "MgTl_T8ZZqF7",
        "outputId": "cde44824-770f-4947-c47c-b274cc189659"
      },
      "execution_count": 9,
      "outputs": [
        {
          "output_type": "stream",
          "name": "stdout",
          "text": [
            "Your selected dataframe has 11 columns.\n",
            "There are 3 columns that have missing values.\n"
          ]
        },
        {
          "output_type": "execute_result",
          "data": {
            "text/plain": [
              "          Missing Values  % of Total Values\n",
              "Cabin                687               77.1\n",
              "Age                  177               19.9\n",
              "Embarked               2                0.2"
            ],
            "text/html": [
              "\n",
              "  <div id=\"df-b56e21a1-52ef-42f9-ab06-e1b0091d3e01\" class=\"colab-df-container\">\n",
              "    <div>\n",
              "<style scoped>\n",
              "    .dataframe tbody tr th:only-of-type {\n",
              "        vertical-align: middle;\n",
              "    }\n",
              "\n",
              "    .dataframe tbody tr th {\n",
              "        vertical-align: top;\n",
              "    }\n",
              "\n",
              "    .dataframe thead th {\n",
              "        text-align: right;\n",
              "    }\n",
              "</style>\n",
              "<table border=\"1\" class=\"dataframe\">\n",
              "  <thead>\n",
              "    <tr style=\"text-align: right;\">\n",
              "      <th></th>\n",
              "      <th>Missing Values</th>\n",
              "      <th>% of Total Values</th>\n",
              "    </tr>\n",
              "  </thead>\n",
              "  <tbody>\n",
              "    <tr>\n",
              "      <th>Cabin</th>\n",
              "      <td>687</td>\n",
              "      <td>77.1</td>\n",
              "    </tr>\n",
              "    <tr>\n",
              "      <th>Age</th>\n",
              "      <td>177</td>\n",
              "      <td>19.9</td>\n",
              "    </tr>\n",
              "    <tr>\n",
              "      <th>Embarked</th>\n",
              "      <td>2</td>\n",
              "      <td>0.2</td>\n",
              "    </tr>\n",
              "  </tbody>\n",
              "</table>\n",
              "</div>\n",
              "    <div class=\"colab-df-buttons\">\n",
              "\n",
              "  <div class=\"colab-df-container\">\n",
              "    <button class=\"colab-df-convert\" onclick=\"convertToInteractive('df-b56e21a1-52ef-42f9-ab06-e1b0091d3e01')\"\n",
              "            title=\"Convert this dataframe to an interactive table.\"\n",
              "            style=\"display:none;\">\n",
              "\n",
              "  <svg xmlns=\"http://www.w3.org/2000/svg\" height=\"24px\" viewBox=\"0 -960 960 960\">\n",
              "    <path d=\"M120-120v-720h720v720H120Zm60-500h600v-160H180v160Zm220 220h160v-160H400v160Zm0 220h160v-160H400v160ZM180-400h160v-160H180v160Zm440 0h160v-160H620v160ZM180-180h160v-160H180v160Zm440 0h160v-160H620v160Z\"/>\n",
              "  </svg>\n",
              "    </button>\n",
              "\n",
              "  <style>\n",
              "    .colab-df-container {\n",
              "      display:flex;\n",
              "      gap: 12px;\n",
              "    }\n",
              "\n",
              "    .colab-df-convert {\n",
              "      background-color: #E8F0FE;\n",
              "      border: none;\n",
              "      border-radius: 50%;\n",
              "      cursor: pointer;\n",
              "      display: none;\n",
              "      fill: #1967D2;\n",
              "      height: 32px;\n",
              "      padding: 0 0 0 0;\n",
              "      width: 32px;\n",
              "    }\n",
              "\n",
              "    .colab-df-convert:hover {\n",
              "      background-color: #E2EBFA;\n",
              "      box-shadow: 0px 1px 2px rgba(60, 64, 67, 0.3), 0px 1px 3px 1px rgba(60, 64, 67, 0.15);\n",
              "      fill: #174EA6;\n",
              "    }\n",
              "\n",
              "    .colab-df-buttons div {\n",
              "      margin-bottom: 4px;\n",
              "    }\n",
              "\n",
              "    [theme=dark] .colab-df-convert {\n",
              "      background-color: #3B4455;\n",
              "      fill: #D2E3FC;\n",
              "    }\n",
              "\n",
              "    [theme=dark] .colab-df-convert:hover {\n",
              "      background-color: #434B5C;\n",
              "      box-shadow: 0px 1px 3px 1px rgba(0, 0, 0, 0.15);\n",
              "      filter: drop-shadow(0px 1px 2px rgba(0, 0, 0, 0.3));\n",
              "      fill: #FFFFFF;\n",
              "    }\n",
              "  </style>\n",
              "\n",
              "    <script>\n",
              "      const buttonEl =\n",
              "        document.querySelector('#df-b56e21a1-52ef-42f9-ab06-e1b0091d3e01 button.colab-df-convert');\n",
              "      buttonEl.style.display =\n",
              "        google.colab.kernel.accessAllowed ? 'block' : 'none';\n",
              "\n",
              "      async function convertToInteractive(key) {\n",
              "        const element = document.querySelector('#df-b56e21a1-52ef-42f9-ab06-e1b0091d3e01');\n",
              "        const dataTable =\n",
              "          await google.colab.kernel.invokeFunction('convertToInteractive',\n",
              "                                                    [key], {});\n",
              "        if (!dataTable) return;\n",
              "\n",
              "        const docLinkHtml = 'Like what you see? Visit the ' +\n",
              "          '<a target=\"_blank\" href=https://colab.research.google.com/notebooks/data_table.ipynb>data table notebook</a>'\n",
              "          + ' to learn more about interactive tables.';\n",
              "        element.innerHTML = '';\n",
              "        dataTable['output_type'] = 'display_data';\n",
              "        await google.colab.output.renderOutput(dataTable, element);\n",
              "        const docLink = document.createElement('div');\n",
              "        docLink.innerHTML = docLinkHtml;\n",
              "        element.appendChild(docLink);\n",
              "      }\n",
              "    </script>\n",
              "  </div>\n",
              "\n",
              "\n",
              "<div id=\"df-0f419fc3-8d6e-463b-ac66-2d6787a357ab\">\n",
              "  <button class=\"colab-df-quickchart\" onclick=\"quickchart('df-0f419fc3-8d6e-463b-ac66-2d6787a357ab')\"\n",
              "            title=\"Suggest charts.\"\n",
              "            style=\"display:none;\">\n",
              "\n",
              "<svg xmlns=\"http://www.w3.org/2000/svg\" height=\"24px\"viewBox=\"0 0 24 24\"\n",
              "     width=\"24px\">\n",
              "    <g>\n",
              "        <path d=\"M19 3H5c-1.1 0-2 .9-2 2v14c0 1.1.9 2 2 2h14c1.1 0 2-.9 2-2V5c0-1.1-.9-2-2-2zM9 17H7v-7h2v7zm4 0h-2V7h2v10zm4 0h-2v-4h2v4z\"/>\n",
              "    </g>\n",
              "</svg>\n",
              "  </button>\n",
              "\n",
              "<style>\n",
              "  .colab-df-quickchart {\n",
              "    background-color: #E8F0FE;\n",
              "    border: none;\n",
              "    border-radius: 50%;\n",
              "    cursor: pointer;\n",
              "    display: none;\n",
              "    fill: #1967D2;\n",
              "    height: 32px;\n",
              "    padding: 0 0 0 0;\n",
              "    width: 32px;\n",
              "  }\n",
              "\n",
              "  .colab-df-quickchart:hover {\n",
              "    background-color: #E2EBFA;\n",
              "    box-shadow: 0px 1px 2px rgba(60, 64, 67, 0.3), 0px 1px 3px 1px rgba(60, 64, 67, 0.15);\n",
              "    fill: #174EA6;\n",
              "  }\n",
              "\n",
              "  [theme=dark] .colab-df-quickchart {\n",
              "    background-color: #3B4455;\n",
              "    fill: #D2E3FC;\n",
              "  }\n",
              "\n",
              "  [theme=dark] .colab-df-quickchart:hover {\n",
              "    background-color: #434B5C;\n",
              "    box-shadow: 0px 1px 3px 1px rgba(0, 0, 0, 0.15);\n",
              "    filter: drop-shadow(0px 1px 2px rgba(0, 0, 0, 0.3));\n",
              "    fill: #FFFFFF;\n",
              "  }\n",
              "</style>\n",
              "\n",
              "  <script>\n",
              "    async function quickchart(key) {\n",
              "      const charts = await google.colab.kernel.invokeFunction(\n",
              "          'suggestCharts', [key], {});\n",
              "    }\n",
              "    (() => {\n",
              "      let quickchartButtonEl =\n",
              "        document.querySelector('#df-0f419fc3-8d6e-463b-ac66-2d6787a357ab button');\n",
              "      quickchartButtonEl.style.display =\n",
              "        google.colab.kernel.accessAllowed ? 'block' : 'none';\n",
              "    })();\n",
              "  </script>\n",
              "</div>\n",
              "    </div>\n",
              "  </div>\n"
            ]
          },
          "metadata": {},
          "execution_count": 9
        }
      ]
    },
    {
      "cell_type": "markdown",
      "source": [
        "Pretty neat information, isn't it?"
      ],
      "metadata": {
        "id": "yICN_xHEbk6U"
      }
    },
    {
      "cell_type": "markdown",
      "source": [
        "## Missing value visualization\n",
        "\n",
        "There is great python library called [missingno](https://github.com/ResidentMario/missingno) that provides missing data visualizations and utilities that allows you to get a quick visual summary of the completeness (or lack thereof) of your dataset. It is designed to work with pandas dataframe.\n",
        "\n",
        "To install the MissingNo library: `pip install missingno`\n",
        "\n",
        "To import the MissingNo library: `import missingno`"
      ],
      "metadata": {
        "id": "r-UAqHi8gKcy"
      }
    },
    {
      "cell_type": "code",
      "source": [
        "import missingno as msno"
      ],
      "metadata": {
        "id": "Jg2Og3HU8CUO"
      },
      "execution_count": 10,
      "outputs": []
    },
    {
      "cell_type": "markdown",
      "source": [
        "**bar**\n",
        "\n",
        "`msno.bar` is a simple visualization of nullity by column. But this doesn't show the location of missing values. Look closely and you can see count of non-null values present per columns. It also shows percentages on the Y-axis."
      ],
      "metadata": {
        "id": "kc6xxJplzdzE"
      }
    },
    {
      "cell_type": "code",
      "source": [
        "msno.bar(titanic_data, figsize=(10,5))"
      ],
      "metadata": {
        "colab": {
          "base_uri": "https://localhost:8080/",
          "height": 597
        },
        "id": "m46fuHcH0V13",
        "outputId": "de6fc1ac-91c5-4c26-aecf-5d5d6c88f49e"
      },
      "execution_count": 11,
      "outputs": [
        {
          "output_type": "execute_result",
          "data": {
            "text/plain": [
              "<Axes: >"
            ]
          },
          "metadata": {},
          "execution_count": 11
        },
        {
          "output_type": "display_data",
          "data": {
            "text/plain": [
              "<Figure size 1000x500 with 3 Axes>"
            ],
            "image/png": "[encoded data removed]"
          },
          "metadata": {}
        }
      ]
    },
    {
      "cell_type": "markdown",
      "source": [
        "matrix\n",
        "\n",
        "`msno.matrix`: The msno.matrix is a data-dense display. We can visually see where the missingness is. The white lines shows location of missing values. For example, in the \"Embarked\" column there are only two instances of missing data, hence the two white lines."
      ],
      "metadata": {
        "id": "QOXCCEZQ79Py"
      }
    },
    {
      "cell_type": "code",
      "source": [
        "msno.matrix(titanic_data, figsize=(10,5))"
      ],
      "metadata": {
        "colab": {
          "base_uri": "https://localhost:8080/",
          "height": 560
        },
        "id": "vZEY7RqSKPFo",
        "outputId": "5a2a404e-4020-4e93-e512-c12078759b51"
      },
      "execution_count": 12,
      "outputs": [
        {
          "output_type": "execute_result",
          "data": {
            "text/plain": [
              "<Axes: >"
            ]
          },
          "metadata": {},
          "execution_count": 12
        },
        {
          "output_type": "display_data",
          "data": {
            "text/plain": [
              "<Figure size 1000x500 with 2 Axes>"
            ],
            "image/png": "[encoded data removed]"
          },
          "metadata": {}
        }
      ]
    },
    {
      "cell_type": "markdown",
      "source": [
        "We can also try to find the reason for missingness. In the earlier section, we talked about types of missing data. Let's see if we can try to find the reason for missing values.\n",
        "* The Embarked column has only two missing values and it doesn't seem to be correlated with the other column. So this would be a case of Missing Completely at Random (MCAR) data.\n",
        "\n",
        "* The Age and Cabin column has a lot of missing values. Also, there doesn't seem to be any reason for missingness.This coul be a case of MAR."
      ],
      "metadata": {
        "id": "jhi0mcQJ72KC"
      }
    },
    {
      "cell_type": "markdown",
      "source": [
        "**heatmap**\n",
        "\n",
        "`msno.heatmap`: The missingno correlation heatmap measures nullity correlation between varibales in the dataset."
      ],
      "metadata": {
        "id": "99GeYg6MvMVa"
      }
    },
    {
      "cell_type": "code",
      "source": [
        "msno.heatmap(titanic_data, figsize=(10,5), cmap=\"bwr\")"
      ],
      "metadata": {
        "colab": {
          "base_uri": "https://localhost:8080/",
          "height": 548
        },
        "id": "l7HX0JaA2Lfd",
        "outputId": "c8ec9412-5b26-46ff-c3fc-d2bccebcc87d"
      },
      "execution_count": 13,
      "outputs": [
        {
          "output_type": "execute_result",
          "data": {
            "text/plain": [
              "<Axes: >"
            ]
          },
          "metadata": {},
          "execution_count": 13
        },
        {
          "output_type": "display_data",
          "data": {
            "text/plain": [
              "<Figure size 1000x500 with 2 Axes>"
            ],
            "image/png": "[encoded data removed]"
          },
          "metadata": {}
        }
      ]
    },
    {
      "cell_type": "markdown",
      "source": [
        "From the heatmap it is evident that there is no strong correlations between missing values of different features. This further strengthens our remark that the data are MAR.\n",
        "\n"
      ],
      "metadata": {
        "id": "4v03FQ3k6dPi"
      }
    },
    {
      "cell_type": "markdown",
      "source": [
        "**dendrogram**\n",
        "\n",
        "`msno.dendrogram`: The dendrogram allows you to more fully correlate variable completion, revealing trends deeper than the pairwise ones visible in the correlation heatmap. We can also see relationships between groups of variables.\n",
        "\n",
        "This functionality uses hierarchical clustering algorithm to cluster the features based on their missingness measured by binary distance.\n",
        "\n",
        "We can see columns without missing data on upper left. The variables that have more correlation will meet at a distance closer to 0. We can see here that the missingness of Embarked tends to be more similar to Age than to Cabin.But the case here is that the correlation is high since Embarked column has a very few missing values."
      ],
      "metadata": {
        "id": "TEb80O0h7u3s"
      }
    },
    {
      "cell_type": "code",
      "source": [
        "msno.dendrogram(titanic_data, figsize=(10,5))"
      ],
      "metadata": {
        "colab": {
          "base_uri": "https://localhost:8080/",
          "height": 543
        },
        "id": "5oVn229t8de6",
        "outputId": "83276530-ab85-42f9-f685-36fe22e62d25"
      },
      "execution_count": 14,
      "outputs": [
        {
          "output_type": "execute_result",
          "data": {
            "text/plain": [
              "<Axes: >"
            ]
          },
          "metadata": {},
          "execution_count": 14
        },
        {
          "output_type": "display_data",
          "data": {
            "text/plain": [
              "<Figure size 1000x500 with 1 Axes>"
            ],
            "image/png": "[encoded data removed]"
          },
          "metadata": {}
        }
      ]
    },
    {
      "cell_type": "markdown",
      "source": [
        "#Methods to handle missing value\n",
        "\n",
        "There are several methods to deal with missing values"
      ],
      "metadata": {
        "id": "FF0mHrZjwS7R"
      }
    },
    {
      "cell_type": "markdown",
      "source": [
        "## Delection methods\n",
        "\n",
        "The simplest strategy to handle missing data is obviously to remove entire predictor(s) and/or sample(s) that contain missing values."
      ],
      "metadata": {
        "id": "d3GCxpM7wgvj"
      }
    },
    {
      "cell_type": "markdown",
      "source": [
        "### Listwise deletion/ Complete case deletion\n",
        "Remove the entire/complete observation(which contain the missing values) from the dataset. After listwise deletion, the dataset will contain no missing values, but we get a smaller dataset. This obviously leads to loss of data. So if you have large number of variables in the dataset and many observations contain missing values, then this method will remove those observations completely which can make the dataset very small and potentially wasteful.\n",
        "An advantage of Listwise deletion is it doesn't assume anything about the reason for missing data. It treats the missing values as random, making it perfect for MCAR situations. When data is MCAR, removing rows with missing values doesn't produce bias into the analysis. So the resulting analysis based on the remaining data are unbiased with respect to the missing data.\n",
        "So, this method should only be used in case were sample size reduction is not a much concern. Otherwise go for other methods like imputation."
      ],
      "metadata": {
        "id": "nQU1H9OuDk1U"
      }
    },
    {
      "cell_type": "code",
      "source": [
        "# making a copy of the dataframe to make sure the initial DataFrame is unaltered\n",
        "titanic_data_1= titanic_data.copy()\n",
        "\n",
        "# drop the rows where at least one element is missing\n",
        "titanic_data_1.dropna(inplace=True)\n",
        "titanic_data_1.isnull().sum()"
      ],
      "metadata": {
        "colab": {
          "base_uri": "https://localhost:8080/"
        },
        "id": "EWE-XBjyRCmK",
        "outputId": "731a9a51-a460-4b4e-fd1c-6ac8937fc67e"
      },
      "execution_count": 15,
      "outputs": [
        {
          "output_type": "execute_result",
          "data": {
            "text/plain": [
              "Survived    0\n",
              "Pclass      0\n",
              "Name        0\n",
              "Sex         0\n",
              "Age         0\n",
              "SibSp       0\n",
              "Parch       0\n",
              "Ticket      0\n",
              "Fare        0\n",
              "Cabin       0\n",
              "Embarked    0\n",
              "dtype: int64"
            ]
          },
          "metadata": {},
          "execution_count": 15
        }
      ]
    },
    {
      "cell_type": "code",
      "source": [
        "titanic_data_2 = titanic_data.copy()\n",
        "\n",
        "# drop rows which contains any NaN or missing value for Age column\n",
        "titanic_data_2.dropna(subset=['Age'], how='any', inplace=True)\n",
        "titanic_data_2['Age'].isnull().sum()"
      ],
      "metadata": {
        "colab": {
          "base_uri": "https://localhost:8080/"
        },
        "id": "txBst-0zO-xh",
        "outputId": "ec8c822a-21b5-47ce-9538-7c303f1d9c87"
      },
      "execution_count": 16,
      "outputs": [
        {
          "output_type": "execute_result",
          "data": {
            "text/plain": [
              "0"
            ]
          },
          "metadata": {},
          "execution_count": 16
        }
      ]
    },
    {
      "cell_type": "markdown",
      "source": [
        "### Pairwise deletion/available-case analysis/casewise deletion\n",
        "\n",
        "An alternative to Listwise deletion is Pairwise deletion to mitigate the loss of data. Compared to listwise deletion, pairwise deletion saves more data because it uses observations that contain some missing data. During Pairwise deletion, only the missing values are deleted were variables were necessary for analysis while the listwise deletes entire entries if any data is missing, regardless of its importance. So using pairwise deletion, any given case/observation may contribute to some analysis but not to others depending on whether the needed data are available. Like when the analysis involves pairs of values (e.g., correlation or covariance), the pairs that have missing values will be removed but still can use the case when analyzing other varibales having non-missing values. Parwise Deletion is used when values are MCAR or MAR but can be biased otherwise.\n",
        "\n"
      ],
      "metadata": {
        "id": "uLWRcJbxOsHb"
      }
    },
    {
      "cell_type": "code",
      "source": [
        "titanic_data['Age'].mean() #pandas skips the missing values and calculates mean of the remaining values"
      ],
      "metadata": {
        "colab": {
          "base_uri": "https://localhost:8080/"
        },
        "id": "cAzA5LFschQ2",
        "outputId": "f6a8f6b1-918d-4b5a-e4fe-f23b5f67aced"
      },
      "execution_count": 17,
      "outputs": [
        {
          "output_type": "execute_result",
          "data": {
            "text/plain": [
              "29.69911764705882"
            ]
          },
          "metadata": {},
          "execution_count": 17
        }
      ]
    },
    {
      "cell_type": "markdown",
      "source": [
        "Here the mean value of Age is based on the observed values of Age.\n",
        "\n",
        "\n"
      ],
      "metadata": {
        "id": "v_-1i43ndv1-"
      }
    },
    {
      "cell_type": "markdown",
      "source": [
        "### Drop columns with missing data\n",
        "\n",
        "Dropping columns with lot of missing data is an option for handling missing data. But this should be done carefully. If the columns contains more than 85% missing data and the column containinf the feature is of no importance, you can delete that column. Always research and analyse before deleting a column.\n",
        "We can Use dropna() with axis=1 to remove columns with any missing values."
      ],
      "metadata": {
        "id": "zpZl1SRavzLQ"
      }
    },
    {
      "cell_type": "code",
      "source": [
        "titanic_data_3 = titanic_data.copy()\n",
        "\n",
        "# drop columns with missing data\n",
        "titanic_data_3.dropna(axis=1, inplace=True)\n",
        "titanic_data_3.head()"
      ],
      "metadata": {
        "colab": {
          "base_uri": "https://localhost:8080/",
          "height": 206
        },
        "id": "hnGJRghjDzZh",
        "outputId": "67f2abdb-8c81-4375-9136-ecf41765fde5"
      },
      "execution_count": 18,
      "outputs": [
        {
          "output_type": "execute_result",
          "data": {
            "text/plain": [
              "   Survived  Pclass                                               Name  \\\n",
              "0         0       3                            Braund, Mr. Owen Harris   \n",
              "1         1       1  Cumings, Mrs. John Bradley (Florence Briggs Th...   \n",
              "2         1       3                             Heikkinen, Miss. Laina   \n",
              "3         1       1       Futrelle, Mrs. Jacques Heath (Lily May Peel)   \n",
              "4         0       3                           Allen, Mr. William Henry   \n",
              "\n",
              "      Sex  SibSp  Parch            Ticket     Fare  \n",
              "0    male      1      0         A/5 21171   7.2500  \n",
              "1  female      1      0          PC 17599  71.2833  \n",
              "2  female      0      0  STON/O2. 3101282   7.9250  \n",
              "3  female      1      0            113803  53.1000  \n",
              "4    male      0      0            373450   8.0500  "
            ],
            "text/html": [
              "\n",
              "  <div id=\"df-742584b7-d378-4413-bc67-eb5944411da6\" class=\"colab-df-container\">\n",
              "    <div>\n",
              "<style scoped>\n",
              "    .dataframe tbody tr th:only-of-type {\n",
              "        vertical-align: middle;\n",
              "    }\n",
              "\n",
              "    .dataframe tbody tr th {\n",
              "        vertical-align: top;\n",
              "    }\n",
              "\n",
              "    .dataframe thead th {\n",
              "        text-align: right;\n",
              "    }\n",
              "</style>\n",
              "<table border=\"1\" class=\"dataframe\">\n",
              "  <thead>\n",
              "    <tr style=\"text-align: right;\">\n",
              "      <th></th>\n",
              "      <th>Survived</th>\n",
              "      <th>Pclass</th>\n",
              "      <th>Name</th>\n",
              "      <th>Sex</th>\n",
              "      <th>SibSp</th>\n",
              "      <th>Parch</th>\n",
              "      <th>Ticket</th>\n",
              "      <th>Fare</th>\n",
              "    </tr>\n",
              "  </thead>\n",
              "  <tbody>\n",
              "    <tr>\n",
              "      <th>0</th>\n",
              "      <td>0</td>\n",
              "      <td>3</td>\n",
              "      <td>Braund, Mr. Owen Harris</td>\n",
              "      <td>male</td>\n",
              "      <td>1</td>\n",
              "      <td>0</td>\n",
              "      <td>A/5 21171</td>\n",
              "      <td>7.2500</td>\n",
              "    </tr>\n",
              "    <tr>\n",
              "      <th>1</th>\n",
              "      <td>1</td>\n",
              "      <td>1</td>\n",
              "      <td>Cumings, Mrs. John Bradley (Florence Briggs Th...</td>\n",
              "      <td>female</td>\n",
              "      <td>1</td>\n",
              "      <td>0</td>\n",
              "      <td>PC 17599</td>\n",
              "      <td>71.2833</td>\n",
              "    </tr>\n",
              "    <tr>\n",
              "      <th>2</th>\n",
              "      <td>1</td>\n",
              "      <td>3</td>\n",
              "      <td>Heikkinen, Miss. Laina</td>\n",
              "      <td>female</td>\n",
              "      <td>0</td>\n",
              "      <td>0</td>\n",
              "      <td>STON/O2. 3101282</td>\n",
              "      <td>7.9250</td>\n",
              "    </tr>\n",
              "    <tr>\n",
              "      <th>3</th>\n",
              "      <td>1</td>\n",
              "      <td>1</td>\n",
              "      <td>Futrelle, Mrs. Jacques Heath (Lily May Peel)</td>\n",
              "      <td>female</td>\n",
              "      <td>1</td>\n",
              "      <td>0</td>\n",
              "      <td>113803</td>\n",
              "      <td>53.1000</td>\n",
              "    </tr>\n",
              "    <tr>\n",
              "      <th>4</th>\n",
              "      <td>0</td>\n",
              "      <td>3</td>\n",
              "      <td>Allen, Mr. William Henry</td>\n",
              "      <td>male</td>\n",
              "      <td>0</td>\n",
              "      <td>0</td>\n",
              "      <td>373450</td>\n",
              "      <td>8.0500</td>\n",
              "    </tr>\n",
              "  </tbody>\n",
              "</table>\n",
              "</div>\n",
              "    <div class=\"colab-df-buttons\">\n",
              "\n",
              "  <div class=\"colab-df-container\">\n",
              "    <button class=\"colab-df-convert\" onclick=\"convertToInteractive('df-742584b7-d378-4413-bc67-eb5944411da6')\"\n",
              "            title=\"Convert this dataframe to an interactive table.\"\n",
              "            style=\"display:none;\">\n",
              "\n",
              "  <svg xmlns=\"http://www.w3.org/2000/svg\" height=\"24px\" viewBox=\"0 -960 960 960\">\n",
              "    <path d=\"M120-120v-720h720v720H120Zm60-500h600v-160H180v160Zm220 220h160v-160H400v160Zm0 220h160v-160H400v160ZM180-400h160v-160H180v160Zm440 0h160v-160H620v160ZM180-180h160v-160H180v160Zm440 0h160v-160H620v160Z\"/>\n",
              "  </svg>\n",
              "    </button>\n",
              "\n",
              "  <style>\n",
              "    .colab-df-container {\n",
              "      display:flex;\n",
              "      gap: 12px;\n",
              "    }\n",
              "\n",
              "    .colab-df-convert {\n",
              "      background-color: #E8F0FE;\n",
              "      border: none;\n",
              "      border-radius: 50%;\n",
              "      cursor: pointer;\n",
              "      display: none;\n",
              "      fill: #1967D2;\n",
              "      height: 32px;\n",
              "      padding: 0 0 0 0;\n",
              "      width: 32px;\n",
              "    }\n",
              "\n",
              "    .colab-df-convert:hover {\n",
              "      background-color: #E2EBFA;\n",
              "      box-shadow: 0px 1px 2px rgba(60, 64, 67, 0.3), 0px 1px 3px 1px rgba(60, 64, 67, 0.15);\n",
              "      fill: #174EA6;\n",
              "    }\n",
              "\n",
              "    .colab-df-buttons div {\n",
              "      margin-bottom: 4px;\n",
              "    }\n",
              "\n",
              "    [theme=dark] .colab-df-convert {\n",
              "      background-color: #3B4455;\n",
              "      fill: #D2E3FC;\n",
              "    }\n",
              "\n",
              "    [theme=dark] .colab-df-convert:hover {\n",
              "      background-color: #434B5C;\n",
              "      box-shadow: 0px 1px 3px 1px rgba(0, 0, 0, 0.15);\n",
              "      filter: drop-shadow(0px 1px 2px rgba(0, 0, 0, 0.3));\n",
              "      fill: #FFFFFF;\n",
              "    }\n",
              "  </style>\n",
              "\n",
              "    <script>\n",
              "      const buttonEl =\n",
              "        document.querySelector('#df-742584b7-d378-4413-bc67-eb5944411da6 button.colab-df-convert');\n",
              "      buttonEl.style.display =\n",
              "        google.colab.kernel.accessAllowed ? 'block' : 'none';\n",
              "\n",
              "      async function convertToInteractive(key) {\n",
              "        const element = document.querySelector('#df-742584b7-d378-4413-bc67-eb5944411da6');\n",
              "        const dataTable =\n",
              "          await google.colab.kernel.invokeFunction('convertToInteractive',\n",
              "                                                    [key], {});\n",
              "        if (!dataTable) return;\n",
              "\n",
              "        const docLinkHtml = 'Like what you see? Visit the ' +\n",
              "          '<a target=\"_blank\" href=https://colab.research.google.com/notebooks/data_table.ipynb>data table notebook</a>'\n",
              "          + ' to learn more about interactive tables.';\n",
              "        element.innerHTML = '';\n",
              "        dataTable['output_type'] = 'display_data';\n",
              "        await google.colab.output.renderOutput(dataTable, element);\n",
              "        const docLink = document.createElement('div');\n",
              "        docLink.innerHTML = docLinkHtml;\n",
              "        element.appendChild(docLink);\n",
              "      }\n",
              "    </script>\n",
              "  </div>\n",
              "\n",
              "\n",
              "<div id=\"df-e61967bf-178e-4828-bb43-ee79d505e282\">\n",
              "  <button class=\"colab-df-quickchart\" onclick=\"quickchart('df-e61967bf-178e-4828-bb43-ee79d505e282')\"\n",
              "            title=\"Suggest charts.\"\n",
              "            style=\"display:none;\">\n",
              "\n",
              "<svg xmlns=\"http://www.w3.org/2000/svg\" height=\"24px\"viewBox=\"0 0 24 24\"\n",
              "     width=\"24px\">\n",
              "    <g>\n",
              "        <path d=\"M19 3H5c-1.1 0-2 .9-2 2v14c0 1.1.9 2 2 2h14c1.1 0 2-.9 2-2V5c0-1.1-.9-2-2-2zM9 17H7v-7h2v7zm4 0h-2V7h2v10zm4 0h-2v-4h2v4z\"/>\n",
              "    </g>\n",
              "</svg>\n",
              "  </button>\n",
              "\n",
              "<style>\n",
              "  .colab-df-quickchart {\n",
              "    background-color: #E8F0FE;\n",
              "    border: none;\n",
              "    border-radius: 50%;\n",
              "    cursor: pointer;\n",
              "    display: none;\n",
              "    fill: #1967D2;\n",
              "    height: 32px;\n",
              "    padding: 0 0 0 0;\n",
              "    width: 32px;\n",
              "  }\n",
              "\n",
              "  .colab-df-quickchart:hover {\n",
              "    background-color: #E2EBFA;\n",
              "    box-shadow: 0px 1px 2px rgba(60, 64, 67, 0.3), 0px 1px 3px 1px rgba(60, 64, 67, 0.15);\n",
              "    fill: #174EA6;\n",
              "  }\n",
              "\n",
              "  [theme=dark] .colab-df-quickchart {\n",
              "    background-color: #3B4455;\n",
              "    fill: #D2E3FC;\n",
              "  }\n",
              "\n",
              "  [theme=dark] .colab-df-quickchart:hover {\n",
              "    background-color: #434B5C;\n",
              "    box-shadow: 0px 1px 3px 1px rgba(0, 0, 0, 0.15);\n",
              "    filter: drop-shadow(0px 1px 2px rgba(0, 0, 0, 0.3));\n",
              "    fill: #FFFFFF;\n",
              "  }\n",
              "</style>\n",
              "\n",
              "  <script>\n",
              "    async function quickchart(key) {\n",
              "      const charts = await google.colab.kernel.invokeFunction(\n",
              "          'suggestCharts', [key], {});\n",
              "    }\n",
              "    (() => {\n",
              "      let quickchartButtonEl =\n",
              "        document.querySelector('#df-e61967bf-178e-4828-bb43-ee79d505e282 button');\n",
              "      quickchartButtonEl.style.display =\n",
              "        google.colab.kernel.accessAllowed ? 'block' : 'none';\n",
              "    })();\n",
              "  </script>\n",
              "</div>\n",
              "    </div>\n",
              "  </div>\n"
            ]
          },
          "metadata": {},
          "execution_count": 18
        }
      ]
    },
    {
      "cell_type": "markdown",
      "source": [
        "The three columns containing null values have been deleted."
      ],
      "metadata": {
        "id": "g9AL-DOgeblk"
      }
    },
    {
      "cell_type": "markdown",
      "source": [
        "## Imputation methods\n",
        "\n",
        "Removing the missing data is not always feasible. So we need imputation techniques for replacing the missing data with some substitute value.\n"
      ],
      "metadata": {
        "id": "dSgzdN8cQ7fn"
      }
    },
    {
      "cell_type": "markdown",
      "source": [
        "### Mean, Median, or Mode Imputation using fillna()\n",
        "\n",
        "Replace missing values with the mean, median, or mode of the non-missing values for that variable.\n",
        "\n",
        "* Simple and ease of implementation\n",
        "* The imputation is done using the existing information from the available data.\n",
        "Mean and median imputation can provide a good estimate of the missing values, respectively for normally distributed data, and skewed data.\n",
        "* Mean and Median imputation cannot be applied to categorical columns. They can only work for numerical columns.\n",
        "\n",
        "\n",
        "You can use the fillna() method of a Pandas DataFrame to perform imputation."
      ],
      "metadata": {
        "id": "b2meb--VkGN9"
      }
    },
    {
      "cell_type": "markdown",
      "source": [
        "**Mean**\n",
        "\n",
        "Mean imputation replace missing value with mean value of the column. Can be used when the missing values are numerical. Imputing the mean preserves the mean of the observed data and does not introduce additional variability. So if the data are MCAR, the estimate of the mean remains unbiased. But mean imputation is not an ideal technique because it will still bias your standard error and ignore correlation of data. Since most machine learning problems involve relationship among variables, mean imputation is not a good solution even if data are MCAR.  "
      ],
      "metadata": {
        "id": "RjcbZq7xWSjH"
      }
    },
    {
      "cell_type": "code",
      "source": [
        "titanic_data_4=titanic_data.copy()\n",
        "\n",
        "# fill the missing value with mean values in column Age.\n",
        "titanic_data_4['Age'].fillna(int(titanic_data_4['Age'].mean()),inplace = True)\n",
        "titanic_data_4['Age'].isnull().sum()"
      ],
      "metadata": {
        "colab": {
          "base_uri": "https://localhost:8080/"
        },
        "id": "74hLSl_f4KHM",
        "outputId": "e712f09f-841d-4585-c8aa-f130dd4babef"
      },
      "execution_count": 19,
      "outputs": [
        {
          "output_type": "execute_result",
          "data": {
            "text/plain": [
              "0"
            ]
          },
          "metadata": {},
          "execution_count": 19
        }
      ]
    },
    {
      "cell_type": "markdown",
      "source": [
        "**Median**\n",
        "\n",
        "Median imputation replace missing value with Median value of the column. Can be used when the missing values are numerical.\n",
        "Median imputation is preferred when the distribution is skewed, as the median is less sensitive to outliers than the mean.\n",
        " Imputing with the median is more robust than imputing with the mean, because it mitigates the effect of outliers"
      ],
      "metadata": {
        "id": "eYH8m9xGvsqr"
      }
    },
    {
      "cell_type": "code",
      "source": [
        "titanic_data_5=titanic_data.copy()\n",
        "\n",
        "# fill the missing value with median values in column Age.\n",
        "titanic_data_5['Age'].fillna(int(titanic_data_5['Age'].median()),inplace = True)\n",
        "titanic_data_5['Age'].isnull().sum()"
      ],
      "metadata": {
        "colab": {
          "base_uri": "https://localhost:8080/"
        },
        "id": "nSW6GEbQ0bUy",
        "outputId": "3e746d79-0fca-42f5-ba3d-a76efc303373"
      },
      "execution_count": 20,
      "outputs": [
        {
          "output_type": "execute_result",
          "data": {
            "text/plain": [
              "0"
            ]
          },
          "metadata": {},
          "execution_count": 20
        }
      ]
    },
    {
      "cell_type": "markdown",
      "source": [
        "**Mode**\n",
        "\n",
        "Mode imputation replace the missing value with mode value (most frequent value of the column feature).\n",
        "The distribution of our imputed data is highly biased.\n",
        "Mode imputation is suitable for categorical variables or numerical variables with a small number of unique values.\n",
        "\n",
        "Note that imputing missing data with mode values can be done with numerical and categorical data."
      ],
      "metadata": {
        "id": "8igOGunWWXVT"
      }
    },
    {
      "cell_type": "code",
      "source": [
        "titanic_data_6=titanic_data.copy()\n",
        "\n",
        "# fill the missing value with mode value in column Cabin.\n",
        "titanic_data_6['Cabin'].fillna(titanic_data_6['Cabin'].mode()[0],inplace = True)\n",
        "titanic_data_6['Cabin'].isnull().sum()"
      ],
      "metadata": {
        "colab": {
          "base_uri": "https://localhost:8080/"
        },
        "id": "gs7eJMaiBQCS",
        "outputId": "394d5977-55f3-4044-edf9-cd3ec3e11334"
      },
      "execution_count": 21,
      "outputs": [
        {
          "output_type": "execute_result",
          "data": {
            "text/plain": [
              "0"
            ]
          },
          "metadata": {},
          "execution_count": 21
        }
      ]
    },
    {
      "cell_type": "markdown",
      "source": [
        "### Imputation With SimpleImputer\n",
        "\n",
        "The [SimpleImputer](https://scikit-learn.org/stable/modules/generated/sklearn.impute.SimpleImputer.html) class from sklearn can be used instead of the fillna() function of pandas. This class replace missing values using descriptive statistic (e.g. mean, median, or most frequent) along each column, or using a constant value. For numerical variables, you can use constant, mean, and median strategy and for categorical columns, you can use most_frequent and constant strategy.\n",
        "\n",
        "We can also specify placeholder for missing values. It can be specified using the parameter `missing_values`.\n",
        "\n"
      ],
      "metadata": {
        "id": "0Z6bi6bNQXs5"
      }
    },
    {
      "cell_type": "code",
      "source": [
        "from sklearn.impute import SimpleImputer"
      ],
      "metadata": {
        "id": "QksTPIqFRHMA"
      },
      "execution_count": 22,
      "outputs": []
    },
    {
      "cell_type": "code",
      "source": [
        "titanic_data_7=titanic_data.copy()\n",
        "\n",
        "# imputing all missing value with a constant\n",
        "constant_imputer = SimpleImputer(strategy='constant')\n",
        "titanic_data_7.iloc[:,:] = constant_imputer.fit_transform(titanic_data_7)\n",
        "titanic_data_7.isnull().sum()"
      ],
      "metadata": {
        "colab": {
          "base_uri": "https://localhost:8080/"
        },
        "id": "TGEQYVc8RKKG",
        "outputId": "f899184f-dfcd-46bc-fe41-ee3827387ad2"
      },
      "execution_count": 23,
      "outputs": [
        {
          "output_type": "execute_result",
          "data": {
            "text/plain": [
              "Survived    0\n",
              "Pclass      0\n",
              "Name        0\n",
              "Sex         0\n",
              "Age         0\n",
              "SibSp       0\n",
              "Parch       0\n",
              "Ticket      0\n",
              "Fare        0\n",
              "Cabin       0\n",
              "Embarked    0\n",
              "dtype: int64"
            ]
          },
          "metadata": {},
          "execution_count": 23
        }
      ]
    },
    {
      "cell_type": "markdown",
      "source": [
        "## Advanced imputation methods\n",
        "\n",
        "Till now we have seen simple techniques for handling missing data. Now let's see advanced technique that uses machine learning algorithms to deal with missing values."
      ],
      "metadata": {
        "id": "MrWfUJr20WGG"
      }
    },
    {
      "cell_type": "markdown",
      "source": [
        "### Multivariate imputation by chained equations (MICE)\n",
        "\n",
        "Single imputation techniques like mean imputation doesn't account for uncertainity in the imputations. But multiple imputation involves creating multiple predictions for each missing value. Thus the analyses of multiple imputed data take into account the uncertainty in the imputations and yield accurate standard errors.\n",
        "\n",
        "MICE is a particular multiple imputation technique that works under the assumption that given the variables used in the imputation procedure, the missing data are Missing At Random (MAR). Implementing MICE when data are not MAR could lead to biased estimates. It works by iteratively imputing each variable with missing values using a regression model by taking into account the relationship between variables in the dataset. The advantage of this method is that it can handle different types of missing data.\n",
        "\n",
        "The chained equations approach is very flexible and can handle variables of varying types as well as complexities such as bounds or survey skip patterns. For more info check the [link](https://www.ncbi.nlm.nih.gov/pmc/articles/PMC3074241/).\n",
        "\n",
        "MICE can be implemented in Python via `sklearn` package `IterativeImputer`. The `IterativeImputer` is still being experimental, so we need to import `enable_iterative_imputer` first.\n",
        "\n"
      ],
      "metadata": {
        "id": "4dVj1V0H1n45"
      }
    },
    {
      "cell_type": "code",
      "source": [
        "# explicitly require this experimental feature\n",
        "from sklearn.experimental import enable_iterative_imputer\n",
        "from sklearn.impute import IterativeImputer\n",
        "titanic_data_mice = titanic_data.copy(deep=True)\n",
        "\n",
        "mice_imputer = IterativeImputer()\n",
        "titanic_data_mice['Age'] = mice_imputer.fit_transform(titanic_data_mice[['Age']])\n",
        "\n",
        "titanic_data_mice['Age'].isnull().sum()"
      ],
      "metadata": {
        "colab": {
          "base_uri": "https://localhost:8080/"
        },
        "id": "mpPM_f6G3fsu",
        "outputId": "6af2ff5a-d837-49ab-9d37-b27cc66c5744"
      },
      "execution_count": 24,
      "outputs": [
        {
          "output_type": "execute_result",
          "data": {
            "text/plain": [
              "0"
            ]
          },
          "metadata": {},
          "execution_count": 24
        }
      ]
    },
    {
      "cell_type": "markdown",
      "source": [
        "### KNN\n",
        "\n",
        "Nearest neighbor (NN) imputation algorithms are another advanced technique to fill in missing data where each missing value on each column features is replaced by a value obtained from related cases in the whole set of observations.\n",
        "The `KNNImputer` class of `sklearn` provides imputation for filling in missing values using the k-Nearest Neighbors approach."
      ],
      "metadata": {
        "id": "qkh3x14y7cGX"
      }
    },
    {
      "cell_type": "code",
      "source": [
        "from sklearn.impute import KNNImputer\n",
        "titanic_data_knn = titanic_data.copy(deep=True)\n",
        "\n",
        "knn_imputer = KNNImputer(n_neighbors=2, weights=\"uniform\")\n",
        "titanic_data_knn['Age'] = knn_imputer.fit_transform(titanic_data_knn[['Age']])\n",
        "\n",
        "titanic_data_knn['Age'].isnull().sum()"
      ],
      "metadata": {
        "colab": {
          "base_uri": "https://localhost:8080/"
        },
        "id": "lEvlcvr77mLP",
        "outputId": "556bc3d0-0500-451f-e6e2-84eb18f951c0"
      },
      "execution_count": 25,
      "outputs": [
        {
          "output_type": "execute_result",
          "data": {
            "text/plain": [
              "0"
            ]
          },
          "metadata": {},
          "execution_count": 25
        }
      ]
    }
  ]
}
