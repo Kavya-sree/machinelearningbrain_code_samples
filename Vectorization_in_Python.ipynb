{
  "nbformat": 4,
  "nbformat_minor": 0,
  "metadata": {
    "colab": {
      "provenance": [],
      "authorship_tag": "ABX9TyMt6Mc+QV2sBNsAK1r/Ljn7",
      "include_colab_link": true
    },
    "kernelspec": {
      "name": "python3",
      "display_name": "Python 3"
    },
    "language_info": {
      "name": "python"
    }
  },
  "cells": [
    {
      "cell_type": "markdown",
      "metadata": {
        "id": "view-in-github",
        "colab_type": "text"
      },
      "source": [
        "<a href=\"https://colab.research.google.com/github/Kavya-sree/machinelearningbrain_code_samples/blob/main/Vectorization_in_Python.ipynb\" target=\"_parent\"><img src=\"https://colab.research.google.com/assets/colab-badge.svg\" alt=\"Open In Colab\"/></a>"
      ]
    },
    {
      "cell_type": "markdown",
      "source": [
        "# Example use of Vectorization\n",
        "\n"
      ],
      "metadata": {
        "id": "DCHOlw1LtCaD"
      }
    },
    {
      "cell_type": "markdown",
      "source": [
        "## Sum of array"
      ],
      "metadata": {
        "id": "wUFWvjgbtQce"
      }
    },
    {
      "cell_type": "code",
      "source": [
        "import time\n",
        "import numpy as np\n",
        "\n",
        "# Creating a large array\n",
        "array = np.random.randint(1000, size=10**4)\n",
        "\n",
        "#starting time\n",
        "start_loop = time.time()\n",
        "def sum_using_forloop():\n",
        "  sum_array=0\n",
        "  for element in array:\n",
        "    sum_array += element\n",
        "# end time\n",
        "end_loop = time.time()\n",
        "\n",
        "\n",
        "#starting time\n",
        "start_numpy = time.time()\n",
        "def sum_using_numpy():\n",
        "  sum_array = np.sum(array)\n",
        "# end time\n",
        "end_numpy = time.time()\n",
        "\n",
        "\n",
        "print(\"Execution time using for loop:\", 1000*(end_loop-start_loop), \"milliseconds\")\n",
        "print(\"Execution time using numpy:\", 1000*(end_numpy-start_numpy), \"milliseconds\")"
      ],
      "metadata": {
        "colab": {
          "base_uri": "https://localhost:8080/"
        },
        "id": "zQEOInx2SSik",
        "outputId": "cceb6114-4bf4-4b9a-fa33-48d24df65682"
      },
      "execution_count": 9,
      "outputs": [
        {
          "output_type": "stream",
          "name": "stdout",
          "text": [
            "Execution time using for loop: 0.12159347534179688 milliseconds\n",
            "Execution time using numpy: 0.08797645568847656 milliseconds\n"
          ]
        }
      ]
    },
    {
      "cell_type": "markdown",
      "source": [
        "## Weighted sum of the inputs\n",
        "\n",
        "The weighted sum of the inputs are what a neural network computes.\n",
        "\n"
      ],
      "metadata": {
        "id": "KQDl_UDn4dyI"
      }
    },
    {
      "cell_type": "code",
      "execution_count": 8,
      "metadata": {
        "id": "oWTW2YVV83FE"
      },
      "outputs": [],
      "source": [
        "x0, x1, x2 = 1, 2, 3           #initializing inputs\n",
        "bias, w1, w2 = 0.1, 0.2, 0.4   #initializing weights annd bias\n",
        "\n",
        "x = [x0, x1, x2]\n",
        "w = [bias, w1, w2]"
      ]
    },
    {
      "cell_type": "code",
      "source": [
        "z =0\n",
        "\n",
        "#program starts\n",
        "start_time=time.time()\n",
        "for i in range(len(x)):\n",
        "  z+= x[i] * w[i]\n",
        "#end time\n",
        "end_time=time.time()\n",
        "print(\"Value of z: \", z)\n",
        "print('Execution time using for loop', 1000*(end_time-start_time), 'milliseconds')"
      ],
      "metadata": {
        "colab": {
          "base_uri": "https://localhost:8080/"
        },
        "id": "D8K7Uzs63yyn",
        "outputId": "6fe98147-0a42-44f0-f135-f486c7908fe9"
      },
      "execution_count": 3,
      "outputs": [
        {
          "output_type": "stream",
          "name": "stdout",
          "text": [
            "Value of z:  1.7000000000000002\n",
            "Execution time using for loop 0.07987022399902344 milliseconds\n"
          ]
        }
      ]
    },
    {
      "cell_type": "code",
      "source": [
        "x_vec, w_vec = np.array(x), np.array(w)\n",
        "\n",
        "#program starts\n",
        "start_time=time.time()\n",
        "z = (x_vec.transpose()).dot(w_vec)\n",
        "#end time\n",
        "end_time=time.time()\n",
        "print(\"Value of z: \", z)\n",
        "print('Execution time using numpy:',1000*(end_time-start_time), 'milliseconds')"
      ],
      "metadata": {
        "colab": {
          "base_uri": "https://localhost:8080/"
        },
        "id": "0EyQjR-i4CMK",
        "outputId": "d39781da-c5ee-4996-b874-ff247ad71d21"
      },
      "execution_count": 4,
      "outputs": [
        {
          "output_type": "stream",
          "name": "stdout",
          "text": [
            "Value of z:  1.7000000000000002\n",
            "Execution time using numpy: 0.13446807861328125 milliseconds\n"
          ]
        }
      ]
    }
  ]
}